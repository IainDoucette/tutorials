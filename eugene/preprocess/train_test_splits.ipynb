{
 "cells": [
  {
   "attachments": {},
   "cell_type": "markdown",
   "id": "e97385fb",
   "metadata": {},
   "source": [
    "# Guide to train-test splits in EUGENe\n",
    "David Laub (last updated: *09/20/2023*)\n",
    "***\n",
    "**Description:**\n",
    "This notebook is meant to serve as a guide to performin train-test splits in EUGENe. We currently offer 3 different ways to split your data into train and test sets.\n",
    "- **Random split:** This is the simplest way to split your data. You simply specify the percentage of your data you want to use for training and the rest will be used for testing.\n",
    "- **Chromosome split:** This method splits your data by chromosome. You specify the chromosomes you want to use for training and testing.\n",
    "- **Sequence homology split:** This method splits your data by sequence homology. We use the graph-part package for this."
   ]
  },
  {
   "attachments": {},
   "cell_type": "markdown",
   "id": "98952a18",
   "metadata": {},
   "source": [
    "# Set-up"
   ]
  },
  {
   "cell_type": "code",
   "execution_count": null,
   "id": "7d8abe39",
   "metadata": {},
   "outputs": [],
   "source": [
    "import os\n",
    "import sys\n",
    "import numpy as np\n",
    "import subprocess\n",
    "import seqdatasets\n",
    "import seqdata as sd\n",
    "from seqdatasets._utils import get_download_path, try_download_urls\n",
    "from eugene.preprocess import train_test_random_split, train_test_chrom_split, train_test_homology_split"
   ]
  },
  {
   "attachments": {},
   "cell_type": "markdown",
   "id": "1f6bb0d4",
   "metadata": {},
   "source": [
    "# Load data"
   ]
  },
  {
   "cell_type": "code",
   "execution_count": null,
   "id": "0f6aa391",
   "metadata": {},
   "outputs": [],
   "source": [
    "sdata = seqdatasets.kopp21(task=\"binary\", split=\"test\")\n",
    "sdata"
   ]
  },
  {
   "attachments": {},
   "cell_type": "markdown",
   "id": "e6241ada",
   "metadata": {},
   "source": [
    "# Random split"
   ]
  },
  {
   "cell_type": "code",
   "execution_count": null,
   "id": "01e36001",
   "metadata": {},
   "outputs": [],
   "source": [
    "train_test_random_split(\n",
    "    sdata=sdata, \n",
    "    dim='_sequence', \n",
    "    train_var=\"random_split\",\n",
    "    test_size=0.1,\n",
    "    random_state=13\n",
    ")"
   ]
  },
  {
   "cell_type": "code",
   "execution_count": null,
   "id": "db23bbe6",
   "metadata": {},
   "outputs": [],
   "source": [
    "np.unique(sdata[\"random_split\"].values, return_counts=True)"
   ]
  },
  {
   "attachments": {},
   "cell_type": "markdown",
   "id": "2e28479c",
   "metadata": {},
   "source": [
    "# Splitting on chromosomes"
   ]
  },
  {
   "cell_type": "code",
   "execution_count": null,
   "id": "8d323424",
   "metadata": {},
   "outputs": [],
   "source": [
    "train_test_chrom_split(\n",
    "    sdata=sdata,\n",
    "    test_chroms=[\"chr3\", \"chr4\"],\n",
    "    train_var=\"chrom_split\",\n",
    ")"
   ]
  },
  {
   "cell_type": "code",
   "execution_count": null,
   "id": "d7cdff73",
   "metadata": {},
   "outputs": [],
   "source": [
    "np.unique(sdata[\"chrom_split\"].values, return_counts=True)"
   ]
  },
  {
   "attachments": {},
   "cell_type": "markdown",
   "id": "192006a7",
   "metadata": {},
   "source": [
    "# Splitting on sequence homology"
   ]
  },
  {
   "attachments": {},
   "cell_type": "markdown",
   "id": "f64bea1a",
   "metadata": {},
   "source": [
    "We will grab the first 10,000 sequences in this tutorial for the sake of time. Splitting by homology with 10,000 sequences takes ~6 minutes."
   ]
  },
  {
   "cell_type": "code",
   "execution_count": null,
   "id": "d97e5b65",
   "metadata": {},
   "outputs": [],
   "source": [
    "sdata_10k = sdata.isel(_sequence=slice(0, int(1e4)))"
   ]
  },
  {
   "cell_type": "code",
   "execution_count": null,
   "id": "52b16d2c",
   "metadata": {},
   "outputs": [],
   "source": [
    "train_test_homology_split(\n",
    "    sdata=sdata_10k,\n",
    "    seq_var=\"seq\",\n",
    "    train_var=\"homology_split\",\n",
    "    test_size=0.1,\n",
    "    nucleotide=True\n",
    ")"
   ]
  },
  {
   "cell_type": "code",
   "execution_count": null,
   "id": "52f52cdf",
   "metadata": {},
   "outputs": [],
   "source": [
    "np.unique(sdata_10k[\"homology_split\"].values, return_counts=True)"
   ]
  },
  {
   "attachments": {},
   "cell_type": "markdown",
   "id": "17b61b4e",
   "metadata": {},
   "source": [
    "# DONE!"
   ]
  },
  {
   "attachments": {},
   "cell_type": "markdown",
   "id": "9ca17a23",
   "metadata": {},
   "source": [
    "---"
   ]
  },
  {
   "attachments": {},
   "cell_type": "markdown",
   "id": "65f3a5a9",
   "metadata": {},
   "source": [
    "# Scratch"
   ]
  },
  {
   "cell_type": "code",
   "execution_count": null,
   "id": "d395d179",
   "metadata": {},
   "outputs": [],
   "source": [
    "import seqdata as sd\n",
    "import xarray as xr\n",
    "import numpy as np\n",
    "import dask.array as da\n",
    "import dask_ml as dml\n",
    "from graph_part import train_test_validation_split"
   ]
  },
  {
   "cell_type": "code",
   "execution_count": null,
   "id": "cff9d2bb",
   "metadata": {},
   "outputs": [],
   "source": [
    "def train_test_split_chrom(sdata: xr.Dataset, test_chroms: list[str], train_var=None):\n",
    "    test_mask = sdata.chrom.isin(test_chroms).compute()\n",
    "    return sdata.assign()\n",
    "    return sdata.sel(_sequence=~test_mask), sdata.sel(_sequence=test_mask)"
   ]
  },
  {
   "cell_type": "code",
   "execution_count": null,
   "id": "8748c954",
   "metadata": {},
   "outputs": [],
   "source": [
    "splits = train_test_split_chrom(sdata, ['chr2', 'chr3'])\n",
    "[s.sizes['_sequence'] for s in splits]"
   ]
  },
  {
   "cell_type": "code",
   "execution_count": null,
   "id": "6beded34",
   "metadata": {},
   "outputs": [],
   "source": [
    "def train_test_split_random(sdata: xr.Dataset, dim: str, groups=None, test_size=0.1, random_state=None):\n",
    "    splitter = dml.model_selection.ShuffleSplit(\n",
    "        n_splits=1,\n",
    "        test_size=test_size,\n",
    "        random_state=random_state\n",
    "    )\n",
    "    train_idx, test_idx = next(splitter.split(da.arange(sdata.sizes[dim]), groups=groups))\n",
    "    return sdata.isel({dim: train_idx}), sdata.isel({dim: test_idx})"
   ]
  },
  {
   "cell_type": "code",
   "execution_count": null,
   "id": "2d4bec5f",
   "metadata": {},
   "outputs": [],
   "source": [
    "def train_test_split_homology(sdata: xr.Dataset, seq_var: str, test_size=0.1, nucleotide=True):\n",
    "    seq_length = sdata.sizes[sdata.attrs['length_dim']]\n",
    "    outs = train_test_validation_split(\n",
    "        sdata[seq_var].to_numpy().view(f'S{seq_length}').squeeze().astype('U').astype(object),\n",
    "        test_size=test_size,\n",
    "        initialization_mode='fast-nn',\n",
    "        nucleotide=nucleotide,\n",
    "        prefilter=True,\n",
    "        denominator='shortest'\n",
    "    )\n",
    "    train_idx, test_idx = map(np.array, outs)\n",
    "    return sdata.isel({sdata.attrs['sequence_dim']: train_idx}), sdata.isel({sdata.attrs['sequence_dim']: test_idx})"
   ]
  },
  {
   "attachments": {},
   "cell_type": "markdown",
   "id": "03c8f0de",
   "metadata": {},
   "source": []
  },
  {
   "cell_type": "code",
   "execution_count": null,
   "id": "51e43dd9",
   "metadata": {},
   "outputs": [],
   "source": [
    "train, test = train_test_split_homology(sdata.isel(_sequence=slice(0, int(1e4))), 'seq')"
   ]
  },
  {
   "attachments": {},
   "cell_type": "markdown",
   "id": "44e39fef",
   "metadata": {},
   "source": [
    "Note: we don't demonstrate this for more than 100,000 sequences since this takes ~3.5 hours to run. The homology graph partitioning algorithm needs approximately $O(n^2)$ time so increasing the amount of sequences beyond this would be intractable for the purposes of a tutorial."
   ]
  },
  {
   "cell_type": "code",
   "execution_count": null,
   "id": "572613b4",
   "metadata": {},
   "outputs": [],
   "source": [
    "train, test = train_test_split_homology(sdata.isel(_sequence=slice(0, int(1e5))), 'seq')"
   ]
  }
 ],
 "metadata": {
  "kernelspec": {
   "display_name": "Python 3.9 ml4gland",
   "language": "python",
   "name": "ml4gland"
  },
  "language_info": {
   "codemirror_mode": {
    "name": "ipython",
    "version": 3
   },
   "file_extension": ".py",
   "mimetype": "text/x-python",
   "name": "python",
   "nbconvert_exporter": "python",
   "pygments_lexer": "ipython3",
   "version": "3.9.16"
  }
 },
 "nbformat": 4,
 "nbformat_minor": 5
}
