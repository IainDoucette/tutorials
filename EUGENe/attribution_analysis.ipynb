{
 "cells": [
  {
   "attachments": {},
   "cell_type": "markdown",
   "metadata": {},
   "source": [
    "# Attribution analysis walkthrough\n",
    "**Authorship:**\n",
    "Adam Klie (last updated: *06/22/2023*)\n",
    "***\n",
    "**Description:**\n",
    "This notebook is meant to serve as a guide for interpreting the learned filters of a trained model in EUGENe\n",
    "***"
   ]
  },
  {
   "attachments": {},
   "cell_type": "markdown",
   "metadata": {},
   "source": [
    "# Background"
   ]
  },
  {
   "attachments": {},
   "cell_type": "markdown",
   "metadata": {},
   "source": [
    "\n",
    "\n",
    "### Use a Kopp model\n",
    "- Make it a SeqDataset real quick\n",
    "- Make the model checkpoint available somewhere\n",
    "\n",
    "### Showcase the different ways you can get activations from the model with some seqs\n",
    "_Note the importance on model architectures here_\n",
    "\n",
    "### Showcase how you can transform them with motifdata and plot them\n",
    "\n",
    "### Showcase how you can save them to meme\n",
    "\n",
    "### Showcase how you can run tomtom\n",
    "_Include explanation of potential issues_\n",
    "\n",
    "### List the caveats\n",
    "\n",
    "## Attribution Analysis with a DeepSTARR Model\n",
    "_Introduction: Give a nice intro to the utility of this analysis and note that you will mention limitations when they arise_\n",
    "\n",
    "### Use Peter Koos\n",
    "- Use DeepSTARR test set\n",
    "- Basically follow the old notebook but make necessary tweaks\n",
    "\n",
    "### Showcase how you can ask for different references\n",
    "_Caveat that references should have baseline input —> tell peeps to choose refs wisely_\n",
    "\n",
    "### Showcase how you can run different methods, that each have different considerations\n",
    "\n",
    "### Showcase how to plot them\n",
    "_Highlight some noisy ones_\n",
    "\n",
    "### Showcase a simple modisco run\n",
    "\n",
    "## Expanded Motif Analysis with DeepSTARR Model\n",
    "Link: [DeepSTARR interpretation notebook](https://www.notion.so/DeepSTARR-interpretation-notebook-dc396b71b04f445a9d2ec202ee984bbb?pvs=21)\n",
    "\n",
    "## In Silico Evolve Notebook\n",
    "_Introduction: Give a nice intro to the utility of this analysis and note that you will mention limitations when they arise_\n",
    "\n",
    "### Use a Jores21 model and some random seqs?\n",
    "_Don’t do too many or will take too long_\n",
    "\n",
    "### Showcase the increase in prediction\n",
    "\n",
    "### Run attributions before and after and note the motifs gained\n",
    "\n",
    "### Highlight that this is a promising direction and more generative approaches are coming soon\n",
    "\n",
    "## Add these all to SeqExplainer tutorials eventually\n",
    "_They should be in EUGENe’s documentation —> Said you would_\n"
   ]
  },
  {
   "attachments": {},
   "cell_type": "markdown",
   "metadata": {},
   "source": [
    "To delve deeper into the benefits and drawbacks of visualizing first layer filters, Koo and Eddy as well as Ploenzke and Irizarry have provided comprehensive discussions on the topic. These discussions shed light on the advantages and challenges associated with filter interpretation in sequence-based genomics models, offering valuable insights into the interpretation and understanding of the underlying biological mechanisms captured by the models."
   ]
  },
  {
   "attachments": {},
   "cell_type": "markdown",
   "metadata": {},
   "source": []
  }
 ],
 "metadata": {
  "language_info": {
   "name": "python"
  },
  "orig_nbformat": 4
 },
 "nbformat": 4,
 "nbformat_minor": 2
}
